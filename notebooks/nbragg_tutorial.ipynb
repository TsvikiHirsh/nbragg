{
 "cells": [
  {
   "cell_type": "markdown",
   "id": "5da5974b-6f4e-4746-943c-926333b9b1e4",
   "metadata": {},
   "source": [
    "# `nbragg` tutorial\n",
    "Tsviki Y. Hirsh, Andrew FT. Leong\n",
    "\n",
    "September 27, 2025\n",
    "\n",
    "This tutorial demonstrates the usage of **nbragg** to model and fit Bragg-edge transmission spectra of an iron powder.\n",
    "\n",
    "Repository: [https://github.com/TsvikiHirsh/nbragg](https://github.com/TsvikiHirsh/nbragg)\n",
    "\n",
    "> 💡 **Tip:** Run cells in order. Sections are intentionally short and task-oriented."
   ]
  },
  {
   "cell_type": "markdown",
   "id": "ef22713f-5e31-4c9c-bab1-078555482e56",
   "metadata": {},
   "source": [
    "# Installation\n",
    "Install directly from GitHub:\n",
    "\n",
    "```bash\n",
    "pip install git+https://github.com/TsvikiHirsh/nbragg.git\n",
    "```\n",
    "\n",
    "> Use `--upgrade` to update an existing install."
   ]
  },
  {
   "cell_type": "code",
   "execution_count": null,
   "id": "42bc2589-539d-4008-9c0b-9fec88cf8661",
   "metadata": {},
   "outputs": [],
   "source": [
    "import nbragg"
   ]
  },
  {
   "cell_type": "markdown",
   "id": "a4882132-142a-45b2-821b-0ec3031570bd",
   "metadata": {},
   "source": [
    "# Quick start\n",
    "Minimal end-to-end example:\n",
    "1. load data\n",
    "2. define material\n",
    "3. build model\n",
    "4. fit\n",
    "5. plot.\n",
    "\n",
    "This example uses the default Rietveld fitting method, which accumulates parameters across stages. We also set custom fitting stages to control the refinement process."
   ]
  },
  {
   "cell_type": "code",
   "execution_count": null,
   "id": "3aae90f1-11ff-42d6-84ce-6b1b932f2d81",
   "metadata": {},
   "outputs": [],
   "source": [
    "data = nbragg.Data.from_transmission(\"iron_powder_transmission.csv\")            # read data\n",
    "xs = nbragg.CrossSection(iron=\"Fe_sg229_Iron-alpha.ncmat\")                      # define sample\n",
    "model = nbragg.TransmissionModel(xs, vary_background=True, vary_response=True)   # define model\n",
    "result = model.fit(data)                                                         # perform fit\n",
    "result.plot();                                                                   # plot results"
   ]
  },
  {
   "cell_type": "markdown",
   "id": "919345c9-e413-413b-82ff-f5c76248f0c0",
   "metadata": {},
   "source": [
    "# Load data\n",
    "Use the `nbragg.Data` object to read Bragg-edge data from CSV."
   ]
  },
  {
   "cell_type": "code",
   "execution_count": null,
   "id": "c442440b-f102-407d-870e-5d8b754a4bf8",
   "metadata": {},
   "outputs": [],
   "source": [
    "data = nbragg.Data.from_transmission(\"iron_powder_transmission.csv\")"
   ]
  },
  {
   "cell_type": "markdown",
   "id": "c716c3ad-0efb-46a4-90f6-54f487c95572",
   "metadata": {},
   "source": [
    "The data is available as a table via `data.table`. Use `data.plot()` for a quick look."
   ]
  },
  {
   "cell_type": "code",
   "execution_count": null,
   "id": "d6606aa1-00df-4cad-a58d-dbb3abbd5e4f",
   "metadata": {},
   "outputs": [],
   "source": [
    "data.table"
   ]
  },
  {
   "cell_type": "code",
   "execution_count": null,
   "id": "283f12f4-65e2-4bd2-8ce4-da4ff90c13ae",
   "metadata": {},
   "outputs": [],
   "source": [
    "data.plot()"
   ]
  },
  {
   "cell_type": "markdown",
   "id": "954b9f73-49f4-449f-9b61-3abdc56a6aef",
   "metadata": {},
   "source": [
    "## Define samples\n",
    "Define the composition of the sample. You can choose predefined crystalline materials from the **NCrystal** standard library, available under the `nbragg.materials` dictionary."
   ]
  },
  {
   "cell_type": "code",
   "execution_count": null,
   "id": "28b99720-1fbe-4ace-b9ef-a258d5dadf19",
   "metadata": {},
   "outputs": [],
   "source": [
    "nbragg.materials[\"AgBr_sg225_SilverBromide.ncmat\"]"
   ]
  },
  {
   "cell_type": "markdown",
   "id": "3cc4fc93-8ad1-4703-af92-7da7f47a6cfb",
   "metadata": {},
   "source": [
    "Use the `nbragg.CrossSection` method to load a single material from the library."
   ]
  },
  {
   "cell_type": "code",
   "execution_count": null,
   "id": "5b6ac574-5f4d-428e-bf22-bbb3dba5ad8c",
   "metadata": {},
   "outputs": [],
   "source": [
    "gamma = nbragg.CrossSection(gamma=nbragg.materials[\"Fe_sg225_Iron-gamma.ncmat\"])\n",
    "alpha = nbragg.CrossSection(alpha=nbragg.materials[\"Fe_sg229_Iron-alpha.ncmat\"])"
   ]
  },
  {
   "cell_type": "markdown",
   "id": "94d3dd2d-bd9b-44cf-9dcc-83fc0abfb06b",
   "metadata": {},
   "source": [
    "You can also register new `.ncmat` files into the NCrystal library using `nbragg.utils.register_material`, then access them from `nbragg.materials` the same way."
   ]
  },
  {
   "cell_type": "code",
   "execution_count": null,
   "id": "68e7a36a-12b0-4322-8b15-7d37a3553e3e",
   "metadata": {},
   "outputs": [],
   "source": [
    "nbragg.utils.register_material(\"Fe_sg229_Iron-alpha_LGS.ncmat\")\n",
    "alphaLGS = nbragg.CrossSection(alpha=nbragg.materials[\"Fe_sg229_Iron-alpha_LGS.ncmat\"])"
   ]
  },
  {
   "cell_type": "markdown",
   "id": "3c4e64f4-1080-4889-8d65-d0e0a9e41aaf",
   "metadata": {},
   "source": [
    "You can combine materials by simple addition. The `cfg_string` will use NCrystal's `phases` syntax to define a multiphase material. Optional weights can be provided by scaling each component."
   ]
  },
  {
   "cell_type": "code",
   "execution_count": null,
   "id": "80fc530c-b74b-4380-9a79-ea111c9c6a16",
   "metadata": {},
   "outputs": [],
   "source": [
    "xs = alpha + gamma\n",
    "\n",
    "# or with weights\n",
    "xs = alpha*0.3 + gamma*0.7"
   ]
  },
  {
   "cell_type": "code",
   "execution_count": null,
   "id": "b9520e1f-e8dc-40ec-bd22-bec9af442009",
   "metadata": {},
   "outputs": [],
   "source": [
    "xs.cfg_string"
   ]
  },
  {
   "cell_type": "markdown",
   "id": "e153b4dc-c9ad-4416-8b88-a833c673b9bd",
   "metadata": {},
   "source": [
    "Access the cross-section data via `xs.table` and plot with `xs.plot()`."
   ]
  },
  {
   "cell_type": "code",
   "execution_count": null,
   "id": "4551eae1-749b-4989-9bd6-c242a889d361",
   "metadata": {},
   "outputs": [],
   "source": [
    "xs.table"
   ]
  },
  {
   "cell_type": "code",
   "execution_count": null,
   "id": "3d5d8221-6a8e-4970-a02c-19e7e4b1836b",
   "metadata": {},
   "outputs": [],
   "source": [
    "xs.plot();"
   ]
  },
  {
   "cell_type": "markdown",
   "id": "c908c42a-4725-4af8-aa94-c4dc5d9f2db1",
   "metadata": {},
   "source": [
    "# Define a transmission model\n",
    "The fit process in **nbragg** uses the friendly `lmfit` parameter framework.\n",
    "\n",
    "Construct a `TransmissionModel` from a `CrossSection`, and enable optional model components via flags. Here we vary background, instrument response, and time-of-flight parameters."
   ]
  },
  {
   "cell_type": "code",
   "execution_count": null,
   "id": "2e171e86-9f61-4c32-babe-a4a7fd141940",
   "metadata": {},
   "outputs": [],
   "source": [
    "model = nbragg.TransmissionModel(alpha, background=\"polynomial3\", vary_background=True, vary_response=True)"
   ]
  },
  {
   "cell_type": "code",
   "execution_count": null,
   "id": "d2a15a92-bc39-4df5-8255-7bab174bf5cb",
   "metadata": {},
   "outputs": [],
   "source": [
    "model.params  # Inspect default parameter set"
   ]
  },
  {
   "cell_type": "code",
   "execution_count": null,
   "id": "37382a02-e0f7-4c6a-b3c7-6f0a0297cffc",
   "metadata": {},
   "outputs": [],
   "source": [
    "model"
   ]
  },
  {
   "cell_type": "markdown",
   "id": "6078bac7-9d55-40f4-a514-d398ab8f011b",
   "metadata": {},
   "source": [
    "# Fit\n",
    "After adjusting parameters (optional), call `model.fit` to perform the fit over a chosen wavelength window. By default, the fit uses the Rietveld method, which accumulates parameters across stages defined in `model.stages`. You can customize the fitting stages to control which parameters are refined in each stage."
   ]
  },
  {
   "cell_type": "code",
   "execution_count": null,
   "id": "d4c3e5a0-69e7-484f-ba93-fa7f9c303932",
   "metadata": {},
   "outputs": [],
   "source": [
    "# Define custom stages\n",
    "model.stages = {'basic': ['norm', 'thickness'], \n",
    "                'background': 'background', \n",
    "                'response': 'response'}\n",
    "result = model.fit(data, wlmin=1, wlmax=5)"
   ]
  },
  {
   "cell_type": "code",
   "execution_count": null,
   "id": "967fa32a-2135-4b09-8aef-e4451fd446ee",
   "metadata": {},
   "outputs": [],
   "source": [
    "result.plot();"
   ]
  },
  {
   "cell_type": "code",
   "execution_count": null,
   "id": "64fe1b49-f367-4b9c-9e09-eded073a24e9",
   "metadata": {},
   "outputs": [],
   "source": [
    "result  # Summary including chi2, parameter values, and uncertainties"
   ]
  },
  {
   "cell_type": "markdown",
   "id": "new-stages-section",
   "metadata": {},
   "source": [
    "# Customizing Fitting Stages\n",
    "The `TransmissionModel` uses the Rietveld fitting method by default, which refines parameters across multiple stages, accumulating them to improve the fit. You can customize the stages to control which parameters are varied in each stage, allowing you to prioritize certain aspects of the model (e.g., scaling, background, phase weights, or instrument response) and improve convergence. Below, we demonstrate two ways to change the fitting stages using the `xs` cross-section, which combines alpha and gamma iron phases.\n",
    "\n",
    "## Method 1: Set Stages via `model.stages`\n",
    "You can define stages by setting the `model.stages` attribute before calling `fit`. This is useful when you want to reuse the same stage configuration for multiple fits.\n",
    "\n",
    "Here, we define four stages: one for scaling parameters (`norm` and `thickness`), one for background parameters (e.g., `b0`, `b1`), and one for the phase weights."
   ]
  },
  {
   "cell_type": "code",
   "execution_count": null,
   "id": "stages-method1",
   "metadata": {},
   "outputs": [],
   "source": [
    "# Create model with weights, background, and response\n",
    "model = nbragg.TransmissionModel(xs, vary_background=True, vary_weights=True, vary_response=True)\n",
    "\n",
    "# Define custom stages\n",
    "model.stages = {\n",
    "    'scale': ['norm', 'thickness'],\n",
    "    'background': 'background',\n",
    "    'weights': ['weights']\n",
    "}\n",
    "\n",
    "# Perform fit\n",
    "result_stages1 = model.fit(data, wlmin=2, wlmax=5)\n",
    "\n",
    "# Plot results\n",
    "result_stages1.plot();"
   ]
  },
  {
   "cell_type": "markdown",
   "id": "stages-method1-explanation",
   "metadata": {},
   "source": [
    "In this example, the fit first optimizes the scaling parameters (`norm` and `thickness`), then the background parameters (e.g., `bg0`, `bg1`), followed by the phase weights, and finally the instrument response parameters. The `model.stages` attribute persists, so subsequent calls to `fit` will reuse these stages unless changed."
   ]
  },
  {
   "cell_type": "markdown",
   "id": "stages-method2",
   "metadata": {},
   "source": [
    "## Method 2: Pass Stages to `fit`\n",
    "You can pass a `stages` dictionary directly to the `fit` method to override the default or `model.stages` for a single fit. This is useful for testing different stage configurations without modifying the model.\n",
    "\n",
    "Here, we use a different approach, first optimizing scaling and background parameters together, then refining phase weights and instrument response parameters in a second stage."
   ]
  },
  {
   "cell_type": "code",
   "execution_count": null,
   "id": "stages-method2-code",
   "metadata": {},
   "outputs": [],
   "source": [
    "# Create model with weights, background, and response\n",
    "model = nbragg.TransmissionModel(xs, vary_background=True, vary_weights=True, vary_response=True)\n",
    "\n",
    "# Define stages for this fit only\n",
    "stages = {\n",
    "    'scale_and_background': ['norm', 'thickness', 'bg0', 'bg1', 'bg2'],\n",
    "    'weights_and_response': ['weights','response']\n",
    "}\n",
    "\n",
    "# Perform fit with custom stages\n",
    "result_stages2 = model.fit(data, wlmin=2, wlmax=5, stages=stages)\n",
    "\n",
    "# Plot results\n",
    "result_stages2.plot();"
   ]
  },
  {
   "cell_type": "markdown",
   "id": "stages-method2-explanation",
   "metadata": {},
   "source": [
    "In this example, the fit first optimizes the scaling parameters (`norm`, `thickness`) and background parameters together, then refines the phase weights in a second stage. This can lead to different convergence behavior compared to Method 1. The `stages` argument overrides `model.stages` for this fit only, leaving `model.stages` unchanged for future fits.\n",
    "\n",
    "> 💡 **Tip:** Use `result.stages_summary` to inspect the parameters and chi-squared values for each stage after fitting."
   ]
  },
  {
   "cell_type": "code",
   "execution_count": null,
   "id": "b6bf2aca-2ba6-4c29-bd67-50bf657fbb9c",
   "metadata": {},
   "outputs": [],
   "source": [
    "# Compare stage summaries\n",
    "print(\"Method 1 Stages Summary:\")\n",
    "result_stages1.stages_summary"
   ]
  },
  {
   "cell_type": "code",
   "execution_count": null,
   "id": "6760a7fb-b1ca-40c8-818d-b93cc561be66",
   "metadata": {},
   "outputs": [],
   "source": [
    "print(\"\\nMethod 2 Stages Summary:\")\n",
    "result_stages2.stages_summary"
   ]
  },
  {
   "cell_type": "markdown",
   "id": "0e6802cb-da79-4d8d-ba39-4a1f7d6e734b",
   "metadata": {},
   "source": "# SANS (Small Angle Neutron Scattering)\n\n**nbragg** supports SANS hard-sphere modeling to account for small-angle scattering contributions in your neutron transmission data. This is particularly useful when your sample contains nanoscale features or voids that produce SANS signals.\n\nSANS modeling uses NCrystal's hard-sphere SANS model, which requires specifying the sphere radius in Angstroms. When SANS is enabled, **nbragg** automatically adds a small void phase (0.01 fraction) as required by NCrystal's implementation."
  },
  {
   "cell_type": "markdown",
   "id": "3baotgibkr",
   "source": "## Defining materials with SANS\n\nYou can add SANS parameters to your material definitions by including the `sans` key with the sphere radius in Angstroms.",
   "metadata": {}
  },
  {
   "cell_type": "code",
   "id": "3q1a9r9qpl4",
   "source": "# Single material with SANS\nxs_sans = nbragg.CrossSection({\n    'aluminum': {\n        'mat': 'Al_sg225.ncmat',\n        'sans': 50.0  # 50 Angstrom sphere radius\n    }\n})\n\n# Inspect the material\nxs_sans.materials",
   "metadata": {},
   "execution_count": null,
   "outputs": []
  },
  {
   "cell_type": "code",
   "id": "k7pliovhvoe",
   "source": "# Verify that SANS is included in the NCMAT data\nprint(\"SANS in textdata:\", '@CUSTOM_HARDSPHERESANS' in xs_sans.textdata['aluminum'])\nprint(\"\\nTextdata excerpt:\")\nfor line in xs_sans.textdata['aluminum'].split('\\n'):\n    if 'SANS' in line or 'OTHERPHASES' in line:\n        print(line)",
   "metadata": {},
   "execution_count": null,
   "outputs": []
  },
  {
   "cell_type": "markdown",
   "id": "93l4ssmtvjw",
   "source": "## Multi-phase materials with SANS\n\nYou can define different SANS parameters for each phase in a multi-phase material. This is useful when different phases have different microstructural features.",
   "metadata": {}
  },
  {
   "cell_type": "code",
   "id": "e9cznt4emzd",
   "source": "# Multi-phase material with different SANS radii\nxs_multiphase_sans = nbragg.CrossSection({\n    'alpha': {\n        'mat': 'Fe_sg229_Iron-alpha.ncmat',\n        'sans': 30.0,  # 30 Angstrom for alpha phase\n        'weight': 0.4\n    },\n    'gamma': {\n        'mat': 'Fe_sg225_Iron-gamma.ncmat',\n        'sans': 60.0,  # 60 Angstrom for gamma phase\n        'weight': 0.6\n    }\n})\n\n# Check the materials\nxs_multiphase_sans.materials",
   "metadata": {},
   "execution_count": null,
   "outputs": []
  },
  {
   "cell_type": "code",
   "id": "wu1qpgh3iw",
   "source": "# Plot the cross-section with SANS\nxs_multiphase_sans.plot(xlim=(1, 5));",
   "metadata": {},
   "execution_count": null,
   "outputs": []
  },
  {
   "cell_type": "markdown",
   "id": "ue42mqliukd",
   "source": "## Fitting SANS parameters\n\nTo fit SANS parameters during Rietveld analysis, use the `vary_sans=True` flag when creating the `TransmissionModel`. The SANS sphere radius will then be included as a fittable parameter.",
   "metadata": {}
  },
  {
   "cell_type": "code",
   "id": "5lviy9iljy4",
   "source": "# Create model with SANS fitting enabled\nmodel_sans = nbragg.TransmissionModel(\n    xs_sans, \n    vary_background=True, \n    vary_sans=True  # Enable SANS parameter fitting\n)\n\n# Inspect SANS parameters\nprint(\"SANS parameters:\")\nfor param_name in model_sans.params:\n    if 'sans' in param_name:\n        param = model_sans.params[param_name]\n        print(f\"  {param_name}: value={param.value}, vary={param.vary}, min={param.min}, max={param.max}\")",
   "metadata": {},
   "execution_count": null,
   "outputs": []
  },
  {
   "cell_type": "markdown",
   "id": "ifv4od1ztoi",
   "source": "For multi-phase materials, each phase gets its own SANS parameter with a numeric suffix (sans1, sans2, etc.):",
   "metadata": {}
  },
  {
   "cell_type": "code",
   "id": "nx1l7nh6wz",
   "source": "# Create model for multi-phase material with SANS\nmodel_multiphase_sans = nbragg.TransmissionModel(\n    xs_multiphase_sans,\n    vary_background=True,\n    vary_weights=True,\n    vary_sans=True\n)\n\n# Inspect SANS parameters for each phase\nprint(\"SANS parameters for multi-phase material:\")\nfor param_name in model_multiphase_sans.params:\n    if 'sans' in param_name:\n        param = model_multiphase_sans.params[param_name]\n        print(f\"  {param_name}: value={param.value}, vary={param.vary}\")",
   "metadata": {},
   "execution_count": null,
   "outputs": []
  },
  {
   "cell_type": "markdown",
   "id": "dpbnincwd5v",
   "source": "## Using SANS in staged fitting\n\nSANS parameters can be included in your custom fitting stages just like any other parameter. This allows you to control when SANS is refined relative to other parameters.",
   "metadata": {}
  },
  {
   "cell_type": "code",
   "id": "whkz8cbije",
   "source": "# Define custom stages including SANS\nmodel_multiphase_sans.stages = {\n    'basic': ['norm', 'thickness'],\n    'background': 'background',\n    'weights': 'weights',\n    'sans': 'sans'  # Refine SANS parameters in final stage\n}\n\n# View the stages\nmodel_multiphase_sans.stages",
   "metadata": {},
   "execution_count": null,
   "outputs": []
  },
  {
   "cell_type": "markdown",
   "id": "ivq8dab8nm",
   "source": "You can also specify individual SANS parameters for different phases:",
   "metadata": {}
  },
  {
   "cell_type": "code",
   "id": "l56ihlc2a2j",
   "source": "# Refine SANS parameters for each phase separately\ncustom_stages = {\n    'basic': ['norm', 'thickness'],\n    'background': 'background',\n    'weights': 'weights',\n    'sans_alpha': ['sans1'],  # Only alpha phase SANS\n    'sans_gamma': ['sans2']   # Only gamma phase SANS\n}\n\n# Or refine both together\ncombined_stages = {\n    'basic': ['norm', 'thickness'],\n    'background': 'background',\n    'weights': 'weights',\n    'sans_both': ['sans1', 'sans2']  # Both phases together\n}\n\nprint(\"Custom stages (separate):\", custom_stages)\nprint(\"\\nCombined stages:\", combined_stages)",
   "metadata": {},
   "execution_count": null,
   "outputs": []
  },
  {
   "cell_type": "markdown",
   "id": "i4iuqfce7n",
   "source": "## Updating SANS parameters dynamically\n\nYou can update SANS parameters on-the-fly using the CrossSection's `__call__` method, similar to other material parameters:",
   "metadata": {}
  },
  {
   "cell_type": "code",
   "id": "1snnx6sluw8",
   "source": "import numpy as np\n\n# Create wavelength array\nwl = np.linspace(1, 5, 100)\n\n# For single-phase material, use 'sans'\nxs_sans(wl, sans=55.0)\nprint(f\"Updated SANS radius: {xs_sans.materials['aluminum']['sans']} Å\")\n\n# For multi-phase material, use 'sans1', 'sans2', etc.\nxs_multiphase_sans(wl, sans1=35.0, sans2=65.0)\nprint(f\"Alpha SANS radius: {xs_multiphase_sans.materials['alpha']['sans']} Å\")\nprint(f\"Gamma SANS radius: {xs_multiphase_sans.materials['gamma']['sans']} Å\")",
   "metadata": {},
   "execution_count": null,
   "outputs": []
  },
  {
   "cell_type": "markdown",
   "id": "0ubvqlezgym",
   "source": "## Key points about SANS in nbragg\n\n- **SANS parameter**: Specifies the hard-sphere radius in Angstroms\n- **Automatic void phase**: When SANS is enabled, a small void phase (0.01 fraction) is automatically added as required by NCrystal\n- **Multi-phase support**: Each phase can have its own SANS radius\n- **Parameter naming**: \n  - Single phase: `sans`\n  - Multi-phase: `sans1`, `sans2`, etc. (numbered by phase order)\n- **Fitting bounds**: SANS parameters are bounded between 0 and 1000 Angstroms\n- **Integration with Rietveld**: Use `vary_sans=True` to include SANS in the fitting process\n- **Staged refinement**: SANS can be refined in specific stages using the `'sans'` group or individual parameters (`'sans1'`, `'sans2'`, etc.)\n\n> 💡 **Tip:** SANS is most useful for samples with nanoscale features. If your sample is purely crystalline without nanoscale porosity or inclusions, you may not need SANS modeling.",
   "metadata": {}
  },
  {
   "cell_type": "markdown",
   "id": "4n5bnafmgx",
   "source": "# Oriented materials",
   "metadata": {}
  },
  {
   "cell_type": "markdown",
   "id": "5a66f1bb-c370-493e-a8ae-ab9421ac7fef",
   "metadata": {},
   "source": [
    "You can load **oriented** materials by specifying crystal directions relative to the beam axis.\n",
    "\n",
    "- `dir1`: a crystal direction aligned relative to the beam (assumed z-axis).\n",
    "- `dir2`: a second crystal direction relative to the y-axis.\n",
    "- `theta` and `phi`: additional rotations around z and y axes (degrees).\n",
    "- `mos`: mosaicity (degrees) for each phase.\n",
    "\n",
    "Below is an example multiphase oriented material."
   ]
  },
  {
   "cell_type": "code",
   "execution_count": null,
   "id": "a119da90-eac1-48ca-adaa-c6f9238cbaab",
   "metadata": {},
   "outputs": [],
   "source": [
    "nbragg.materials[\"Be_sg194.ncmat\"]"
   ]
  },
  {
   "cell_type": "code",
   "execution_count": null,
   "id": "29ce5b8f-bb60-4039-b5ab-b6b61f467fe3",
   "metadata": {},
   "outputs": [],
   "source": [
    "gamma =     {\n",
    "            \"mat\": \"Fe_sg225_Iron-gamma.ncmat\",\n",
    "            \"temp\": 300,\n",
    "            \"weight\": 0.3\n",
    "            }\n",
    "beryllium = {\n",
    "            \"mat\": \"Be_sg194.ncmat\",\n",
    "            \"temp\": 300,\n",
    "            \"mos\": 3,\n",
    "            \"dir1\": [0, 0, 1],\n",
    "            \"dir2\": [1, 0, 0],\n",
    "            \"theta\": 10.0,\n",
    "            \"phi\": 10.0,\n",
    "            \"weight\": 0.7,\n",
    "            \"dirtol\": 30\n",
    "            }\n",
    "xs2 = nbragg.CrossSection(gamma=gamma, beryllium=beryllium)"
   ]
  },
  {
   "cell_type": "code",
   "execution_count": null,
   "id": "c58a07e3-20d0-4b2e-a701-86ff9d5dc4a1",
   "metadata": {},
   "outputs": [],
   "source": [
    "xs2.materials  # Inspect phase definitions"
   ]
  },
  {
   "cell_type": "markdown",
   "id": "e2346bd8-0473-4373-9219-75eda38abed9",
   "metadata": {},
   "source": [
    "The configuration string reflects the oriented phases and parameters."
   ]
  },
  {
   "cell_type": "code",
   "execution_count": null,
   "id": "a0ecb5c9-a833-431a-a8ba-1088379a89d3",
   "metadata": {},
   "outputs": [],
   "source": [
    "xs2.cfg_string"
   ]
  },
  {
   "cell_type": "code",
   "execution_count": null,
   "id": "d886a742-7c6d-4e40-b003-b7370364da21",
   "metadata": {},
   "outputs": [],
   "source": [
    "xs2.plot()"
   ]
  },
  {
   "cell_type": "markdown",
   "id": "9ba31f48-f7d8-4025-b3a2-48b223455c5d",
   "metadata": {},
   "source": [
    "Oriented materials can be combined with other (oriented/non-oriented) materials using the same syntax as before."
   ]
  },
  {
   "cell_type": "code",
   "execution_count": null,
   "id": "5479d7cf-2ac7-4050-8e99-494ab54c1e26",
   "metadata": {},
   "outputs": [],
   "source": [
    "xs3 = xs2*0.2 + xs*0.8"
   ]
  },
  {
   "cell_type": "code",
   "execution_count": null,
   "id": "66e6d306-0591-4e76-b053-521315398569",
   "metadata": {},
   "outputs": [],
   "source": [
    "xs3.phases  # Combined phases"
   ]
  },
  {
   "cell_type": "code",
   "execution_count": null,
   "id": "194a1d45-4dcd-47bd-a75b-a075434690d3",
   "metadata": {},
   "outputs": [],
   "source": [
    "xs3.plot()"
   ]
  },
  {
   "cell_type": "markdown",
   "id": "8a2a6d2a-02cc-4c42-a3c1-ee5fe8002f8f",
   "metadata": {},
   "source": [
    "# MTEX integration\n",
    "MTEX (MATLAB) can analyze diffraction peaks to infer phase fractions and textures; those can seed the Bragg-edge model in **nbragg**."
   ]
  },
  {
   "cell_type": "markdown",
   "id": "547436d0-6871-423a-a135-f338c1890fb3",
   "metadata": {},
   "source": [
    "Use the MATLAB scripts in the repository (`mtex_scripts/`) to export predicted phase weights, directions, and mosaicities to CSV. See the **mtex integration README** for details.\n",
    "\n",
    "The scripts output a CSV with phase weights, orientation vectors, and mosaicity. You can load this with `nbragg.CrossSection.from_mtex` to create a multiphase `CrossSection`."
   ]
  },
  {
   "cell_type": "code",
   "execution_count": null,
   "id": "cb6882a2-9fa1-4b2e-b79a-9476135e28e0",
   "metadata": {},
   "outputs": [],
   "source": [
    "xs_alpha = nbragg.CrossSection.from_mtex(\n",
    "    \"sf_alpha_ncrystal.csv\",\n",
    "    nbragg.materials[\"Fe_sg229_Iron-alpha_LGS.ncmat\"],\n",
    "    short_name=\"α\",\n",
    ")\n",
    "\n",
    "xs_gamma = nbragg.CrossSection.from_mtex(\n",
    "    \"sf_gamma_ncrystal.csv\",\n",
    "    nbragg.materials[\"Fe_sg225_Iron-gamma_LGS.ncmat\"],\n",
    "    short_name=\"γ\",\n",
    ")"
   ]
  },
  {
   "cell_type": "code",
   "execution_count": null,
   "id": "25bcd5b1-9a34-43ac-8aff-bb2f7acd41f3",
   "metadata": {},
   "outputs": [],
   "source": [
    "xs_gamma.materials  # Inspect the phases imported from MTEX"
   ]
  },
  {
   "cell_type": "code",
   "execution_count": null,
   "id": "c3a31840-687a-4023-8fbd-12df28a0d7c5",
   "metadata": {},
   "outputs": [],
   "source": [
    "xs_gamma.plot(xlim=(1, 5));"
   ]
  },
  {
   "cell_type": "markdown",
   "id": "01a56bd9-bd43-4d2d-b12e-8f642712c725",
   "metadata": {},
   "source": [
    "# Fitting Large-Grain Steel Data\n"
   ]
  },
  {
   "cell_type": "markdown",
   "id": "9333c3fc-3ba9-4844-9a83-d3cbbe35b502",
   "metadata": {},
   "source": [
    "We'll use the MTEX-generated materials to fit a multiphase large-grain steel sample."
   ]
  },
  {
   "cell_type": "markdown",
   "id": "d698bb68-6dee-4d0f-8f61-305faf39bcc7",
   "metadata": {},
   "source": [
    "## Load data\n",
    "Use `nbragg.Data.from_counts(signal_csv, openbeam_csv)` with two CSV files: the sample **signal** and the **open-beam** reference.\n",
    "\n",
    "Each CSV should have three columns:\n",
    "- **slice**: Identifier for each slice of the sample,\n",
    "- **counts**: Measured counts for each slice,\n",
    "- **error**: Measurement error associated with each count value."
   ]
  },
  {
   "cell_type": "code",
   "execution_count": null,
   "id": "f27eea72-b96c-4c52-a310-b9f8ee7f251c",
   "metadata": {},
   "outputs": [],
   "source": [
    "data = nbragg.Data.from_counts(\"large_grain_steel_0deg.csv\", \"openbeam.csv\")"
   ]
  },
  {
   "cell_type": "code",
   "execution_count": null,
   "id": "70f8193c-36ef-4eb2-bdc9-da91300264f8",
   "metadata": {},
   "outputs": [],
   "source": [
    "data.plot(ylim=(0, 0.2))"
   ]
  },
  {
   "cell_type": "markdown",
   "id": "45a4093e-0b57-4c68-bbb1-9960b6367f8e",
   "metadata": {},
   "source": [
    "Define a model based on the MTEX-derived **iron-gamma** cross section."
   ]
  },
  {
   "cell_type": "code",
   "execution_count": null,
   "id": "215a78b4-4a04-47e4-b629-784d0b4a2c15",
   "metadata": {},
   "outputs": [],
   "source": [
    "model = nbragg.TransmissionModel(xs_gamma, vary_background=True, vary_weights=True)"
   ]
  },
  {
   "cell_type": "code",
   "execution_count": null,
   "id": "0b9b81bb-cece-47c2-b3f9-420c7699f624",
   "metadata": {},
   "outputs": [],
   "source": [
    "model.params[\"norm\"].value = 1.0/2.3\n",
    "model.params[\"thickness\"].value = 1.27\n",
    "model.params[\"thickness\"].vary = True\n",
    "model.params  # Review current parameters"
   ]
  },
  {
   "cell_type": "code",
   "execution_count": null,
   "id": "0b7526c4-5578-4ac0-a8bd-5624b89ba63e",
   "metadata": {},
   "outputs": [],
   "source": [
    "result = model.fit(data, wlmin=2, wlmax=5)"
   ]
  },
  {
   "cell_type": "code",
   "execution_count": null,
   "id": "eb792f7d-bf63-4a3b-93d2-5efe72e08fa4",
   "metadata": {},
   "outputs": [],
   "source": [
    "result.plot();"
   ]
  },
  {
   "cell_type": "code",
   "execution_count": null,
   "id": "4ed2f53c-121a-4f5a-9146-147a991a8b05",
   "metadata": {},
   "outputs": [],
   "source": [
    "result"
   ]
  },
  {
   "cell_type": "markdown",
   "id": "cc1d18cc-6a1d-41ee-950e-9629ac3ba23f",
   "metadata": {},
   "source": [
    "Now we also vary the **orientation**."
   ]
  },
  {
   "cell_type": "code",
   "execution_count": null,
   "id": "11888582-2ba9-4b39-9967-8a0eba989a59",
   "metadata": {},
   "outputs": [],
   "source": [
    "model = nbragg.TransmissionModel(\n",
    "    xs_gamma,\n",
    "    vary_background=True,\n",
    "    vary_weights=True,\n",
    "    vary_orientation=True,\n",
    ")\n",
    "# Example: reuse previous best params (optional)\n",
    "model.update_params(result.params)\n",
    "model.params[\"thickness\"].vary = False\n",
    "model.params[\"norm\"].vary = False\n",
    "model.params"
   ]
  },
  {
   "cell_type": "code",
   "execution_count": null,
   "id": "9d869f39-ec5f-4023-a523-824c0e5f1d7b",
   "metadata": {},
   "outputs": [],
   "source": [
    "model.stages"
   ]
  },
  {
   "cell_type": "code",
   "execution_count": null,
   "id": "e31a2de7-9e89-4533-b60d-8cc30cef0924",
   "metadata": {},
   "outputs": [],
   "source": [
    "model.stages = {'basic': 'basic',\n",
    " 'background': 'background',\n",
    " # 'mosaicity': 'mosaicity',\n",
    " 'thetas': 'thetas',\n",
    " # 'phis': 'phis',\n",
    " # 'angles': 'angles',\n",
    " # 'orientation': 'orientation',\n",
    " 'weights': 'weights'}\n",
    "result2 = model.fit(data, wlmin=2, wlmax=5)"
   ]
  },
  {
   "cell_type": "code",
   "execution_count": null,
   "id": "27ea9db8-357c-4f37-b0b7-3f675ac7cace",
   "metadata": {},
   "outputs": [],
   "source": [
    "result2.plot();"
   ]
  },
  {
   "cell_type": "code",
   "execution_count": null,
   "id": "e220a481-c5d1-41d6-8dcf-84418b66507e",
   "metadata": {},
   "outputs": [],
   "source": []
  }
 ],
 "metadata": {
  "kernelspec": {
   "display_name": "Python 3 (ipykernel)",
   "language": "python",
   "name": "python3"
  },
  "language_info": {
   "codemirror_mode": {
    "name": "ipython",
    "version": 3
   },
   "file_extension": ".py",
   "mimetype": "text/x-python",
   "name": "python",
   "nbconvert_exporter": "python",
   "pygments_lexer": "ipython3",
   "version": "3.13.3"
  }
 },
 "nbformat": 4,
 "nbformat_minor": 5
}